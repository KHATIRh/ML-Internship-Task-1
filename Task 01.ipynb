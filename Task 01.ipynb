{
 "cells": [
  {
   "cell_type": "markdown",
   "metadata": {},
   "source": [
    "Question 1:"
   ]
  },
  {
   "cell_type": "code",
   "execution_count": 1,
   "metadata": {},
   "outputs": [
    {
     "name": "stdout",
     "output_type": "stream",
     "text": [
      "Null values in each column:\n",
      " Transaction_ID                 0\n",
      "Transaction_Amount             0\n",
      "Transaction_Volume             0\n",
      "Average_Transaction_Amount     0\n",
      "Frequency_of_Transactions      0\n",
      "Time_Since_Last_Transaction    0\n",
      "Day_of_Week                    0\n",
      "Time_of_Day                    0\n",
      "Age                            0\n",
      "Gender                         0\n",
      "Income                         0\n",
      "Account_Type                   0\n",
      "dtype: int64\n",
      "\n",
      "Column information:\n",
      "<class 'pandas.core.frame.DataFrame'>\n",
      "RangeIndex: 1000 entries, 0 to 999\n",
      "Data columns (total 12 columns):\n",
      " #   Column                       Non-Null Count  Dtype  \n",
      "---  ------                       --------------  -----  \n",
      " 0   Transaction_ID               1000 non-null   object \n",
      " 1   Transaction_Amount           1000 non-null   float64\n",
      " 2   Transaction_Volume           1000 non-null   int64  \n",
      " 3   Average_Transaction_Amount   1000 non-null   float64\n",
      " 4   Frequency_of_Transactions    1000 non-null   int64  \n",
      " 5   Time_Since_Last_Transaction  1000 non-null   int64  \n",
      " 6   Day_of_Week                  1000 non-null   object \n",
      " 7   Time_of_Day                  1000 non-null   object \n",
      " 8   Age                          1000 non-null   int64  \n",
      " 9   Gender                       1000 non-null   object \n",
      " 10  Income                       1000 non-null   int64  \n",
      " 11  Account_Type                 1000 non-null   object \n",
      "dtypes: float64(2), int64(5), object(5)\n",
      "memory usage: 93.9+ KB\n",
      "None\n",
      "\n",
      "Descriptive statistics of the data:\n",
      "       Transaction_Amount  Transaction_Volume  Average_Transaction_Amount  \\\n",
      "count         1000.000000         1000.000000                 1000.000000   \n",
      "mean          1038.122511            2.498000                 1000.682506   \n",
      "std            283.580055            1.115006                   20.632334   \n",
      "min            849.024392            1.000000                  939.081423   \n",
      "25%            966.028796            1.000000                  986.800556   \n",
      "50%           1002.118678            3.000000                 1000.501902   \n",
      "75%           1033.143657            3.000000                 1015.155595   \n",
      "max           3227.459108            4.000000                 1073.154036   \n",
      "\n",
      "       Frequency_of_Transactions  Time_Since_Last_Transaction          Age  \\\n",
      "count                1000.000000                  1000.000000  1000.000000   \n",
      "mean                   12.078000                    15.341000    40.641000   \n",
      "std                     4.245225                     8.361258    13.819953   \n",
      "min                     5.000000                     1.000000    18.000000   \n",
      "25%                     8.000000                     8.000000    29.000000   \n",
      "50%                    12.000000                    16.000000    41.000000   \n",
      "75%                    16.000000                    22.000000    53.000000   \n",
      "max                    19.000000                    29.000000    64.000000   \n",
      "\n",
      "             Income  \n",
      "count  1.000000e+03  \n",
      "mean   8.948238e+05  \n",
      "std    3.453562e+05  \n",
      "min    3.001590e+05  \n",
      "25%    5.917308e+05  \n",
      "50%    8.876645e+05  \n",
      "75%    1.178102e+06  \n",
      "max    1.499670e+06  \n"
     ]
    }
   ],
   "source": [
    "import pandas as pd\n",
    "\n",
    "data=pd.read_csv(\"transaction_anomalies_dataset.csv\")\n",
    "\n",
    "null_values=data.isnull().sum()\n",
    "print(\"Null values in each column:\\n\",null_values)\n",
    "\n",
    "print(\"\\nColumn information:\")\n",
    "print(data.info())\n",
    "\n",
    "print(\"\\nDescriptive statistics of the data:\")\n",
    "print(data.describe())\n"
   ]
  },
  {
   "cell_type": "markdown",
   "metadata": {},
   "source": [
    "Question 2"
   ]
  }
 ],
 "metadata": {
  "kernelspec": {
   "display_name": "Python 3",
   "language": "python",
   "name": "python3"
  },
  "language_info": {
   "codemirror_mode": {
    "name": "ipython",
    "version": 3
   },
   "file_extension": ".py",
   "mimetype": "text/x-python",
   "name": "python",
   "nbconvert_exporter": "python",
   "pygments_lexer": "ipython3",
   "version": "3.12.1"
  }
 },
 "nbformat": 4,
 "nbformat_minor": 2
}
